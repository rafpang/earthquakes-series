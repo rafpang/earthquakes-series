{
  "cells": [
    {
      "cell_type": "markdown",
      "metadata": {},
      "source": [
        "### Imports\n",
        "\n",
        "Starting off! Let's import some libraries to ingest the csv file. "
      ]
    },
    {
      "cell_type": "code",
      "execution_count": 124,
      "metadata": {
        "id": "F3pNkEWLQkV7"
      },
      "outputs": [],
      "source": [
        "\n",
        "import pandas as pd \n",
        "import matplotlib.pyplot as plt\n",
        "import warnings\n",
        "warnings.filterwarnings('ignore')\n",
        "import seaborn as sns\n",
        "import numpy as np\n",
        "plt.style.use('fivethirtyeight')"
      ]
    },
    {
      "cell_type": "markdown",
      "metadata": {},
      "source": [
        "## Ingestion\n",
        "\n",
        "I converted the datetime column into a datetime object and tried to see how the magnitude of the earthquakes change over time. It seems like the magnitude does not follow something of a downward trend, but the seasonality is hard to see. This is something to keep in mind. \n",
        "\n",
        "The date time have been sorted out. This is so that splitting can be done properly.\n",
        "\n",
        "Next, I decided to look at the distrbution of latitude, longitude and magnitude."
      ]
    },
    {
      "cell_type": "code",
      "execution_count": 125,
      "metadata": {
        "colab": {
          "base_uri": "https://localhost:8080/",
          "height": 444
        },
        "id": "eD3zcphLQ7Hp",
        "outputId": "a3540ac8-4497-48da-e1e3-f96716236eaf"
      },
      "outputs": [],
      "source": [
        "df = pd.read_csv('data.csv',)\n",
        "df['date_time'] = df.date.str.cat(df.time.copy(), sep =\" \")\n",
        "df['date_time'] = pd.to_datetime(df.date_time)\n",
        "\n",
        "df['year'] = df.date_time.dt.year\n",
        "df = df.set_index(df.date_time)\n",
        "df= df.sort_index()\n"
      ]
    },
    {
      "cell_type": "code",
      "execution_count": 126,
      "metadata": {},
      "outputs": [
        {
          "data": {
            "text/html": [
              "<div>\n",
              "<style scoped>\n",
              "    .dataframe tbody tr th:only-of-type {\n",
              "        vertical-align: middle;\n",
              "    }\n",
              "\n",
              "    .dataframe tbody tr th {\n",
              "        vertical-align: top;\n",
              "    }\n",
              "\n",
              "    .dataframe thead th {\n",
              "        text-align: right;\n",
              "    }\n",
              "</style>\n",
              "<table border=\"1\" class=\"dataframe\">\n",
              "  <thead>\n",
              "    <tr style=\"text-align: right;\">\n",
              "      <th></th>\n",
              "      <th>date</th>\n",
              "      <th>time</th>\n",
              "      <th>latitude</th>\n",
              "      <th>longitude</th>\n",
              "      <th>depth</th>\n",
              "      <th>magnitude</th>\n",
              "      <th>date_time</th>\n",
              "      <th>year</th>\n",
              "    </tr>\n",
              "    <tr>\n",
              "      <th>date_time</th>\n",
              "      <th></th>\n",
              "      <th></th>\n",
              "      <th></th>\n",
              "      <th></th>\n",
              "      <th></th>\n",
              "      <th></th>\n",
              "      <th></th>\n",
              "      <th></th>\n",
              "    </tr>\n",
              "  </thead>\n",
              "  <tbody>\n",
              "    <tr>\n",
              "      <th>2008-11-01 00:31:25</th>\n",
              "      <td>2008-11-01</td>\n",
              "      <td>00:31:25</td>\n",
              "      <td>-0.60</td>\n",
              "      <td>98.89553</td>\n",
              "      <td>20.0</td>\n",
              "      <td>2.99</td>\n",
              "      <td>2008-11-01 00:31:25</td>\n",
              "      <td>2008</td>\n",
              "    </tr>\n",
              "    <tr>\n",
              "      <th>2008-11-01 01:34:29</th>\n",
              "      <td>2008-11-01</td>\n",
              "      <td>01:34:29</td>\n",
              "      <td>-6.61</td>\n",
              "      <td>129.38722</td>\n",
              "      <td>30.1</td>\n",
              "      <td>5.51</td>\n",
              "      <td>2008-11-01 01:34:29</td>\n",
              "      <td>2008</td>\n",
              "    </tr>\n",
              "    <tr>\n",
              "      <th>2008-11-01 01:38:14</th>\n",
              "      <td>2008-11-01</td>\n",
              "      <td>01:38:14</td>\n",
              "      <td>-3.65</td>\n",
              "      <td>127.99068</td>\n",
              "      <td>5.0</td>\n",
              "      <td>3.54</td>\n",
              "      <td>2008-11-01 01:38:14</td>\n",
              "      <td>2008</td>\n",
              "    </tr>\n",
              "    <tr>\n",
              "      <th>2008-11-01 02:20:05</th>\n",
              "      <td>2008-11-01</td>\n",
              "      <td>02:20:05</td>\n",
              "      <td>-4.20</td>\n",
              "      <td>128.09700</td>\n",
              "      <td>5.0</td>\n",
              "      <td>2.42</td>\n",
              "      <td>2008-11-01 02:20:05</td>\n",
              "      <td>2008</td>\n",
              "    </tr>\n",
              "    <tr>\n",
              "      <th>2008-11-01 02:32:18</th>\n",
              "      <td>2008-11-01</td>\n",
              "      <td>02:32:18</td>\n",
              "      <td>-4.09</td>\n",
              "      <td>128.20047</td>\n",
              "      <td>10.0</td>\n",
              "      <td>2.41</td>\n",
              "      <td>2008-11-01 02:32:18</td>\n",
              "      <td>2008</td>\n",
              "    </tr>\n",
              "  </tbody>\n",
              "</table>\n",
              "</div>"
            ],
            "text/plain": [
              "                           date      time  latitude  longitude  depth  \\\n",
              "date_time                                                               \n",
              "2008-11-01 00:31:25  2008-11-01  00:31:25     -0.60   98.89553   20.0   \n",
              "2008-11-01 01:34:29  2008-11-01  01:34:29     -6.61  129.38722   30.1   \n",
              "2008-11-01 01:38:14  2008-11-01  01:38:14     -3.65  127.99068    5.0   \n",
              "2008-11-01 02:20:05  2008-11-01  02:20:05     -4.20  128.09700    5.0   \n",
              "2008-11-01 02:32:18  2008-11-01  02:32:18     -4.09  128.20047   10.0   \n",
              "\n",
              "                     magnitude           date_time  year  \n",
              "date_time                                                 \n",
              "2008-11-01 00:31:25       2.99 2008-11-01 00:31:25  2008  \n",
              "2008-11-01 01:34:29       5.51 2008-11-01 01:34:29  2008  \n",
              "2008-11-01 01:38:14       3.54 2008-11-01 01:38:14  2008  \n",
              "2008-11-01 02:20:05       2.42 2008-11-01 02:20:05  2008  \n",
              "2008-11-01 02:32:18       2.41 2008-11-01 02:32:18  2008  "
            ]
          },
          "execution_count": 126,
          "metadata": {},
          "output_type": "execute_result"
        }
      ],
      "source": [
        "df.head()"
      ]
    },
    {
      "cell_type": "code",
      "execution_count": 127,
      "metadata": {},
      "outputs": [
        {
          "data": {
            "image/png": "[encoded data removed]",
            "text/plain": [
              "<Figure size 700x700 with 1 Axes>"
            ]
          },
          "metadata": {},
          "output_type": "display_data"
        }
      ],
      "source": [
        "#How\n",
        "fig, ax = plt.subplots(figsize=(7,7))\n",
        "gb = df.groupby('year')['magnitude'].mean().reset_index()\n",
        "ax.plot(gb.year,gb.magnitude,marker = \"o\",)\n",
        "ax.set_title('Mean magnitude over the years')\n",
        "ax.set_ylabel(\"Magnitude\");\n"
      ]
    },
    {
      "cell_type": "code",
      "execution_count": 128,
      "metadata": {},
      "outputs": [
        {
          "data": {
            "image/png": "[encoded data removed]",
            "text/plain": [
              "<Figure size 700x700 with 1 Axes>"
            ]
          },
          "metadata": {},
          "output_type": "display_data"
        }
      ],
      "source": [
        "#How does the depth change over the years?\n",
        "fig, ax = plt.subplots(figsize=(7,7))\n",
        "gb_depth = df.groupby('year')['depth'].mean().reset_index()\n",
        "ax.plot(gb_depth.year,gb_depth.depth, marker='o',)\n",
        "ax.set_title('Mean depth over the years')\n",
        "ax.set_ylabel(\"Magnitude\");"
      ]
    },
    {
      "cell_type": "code",
      "execution_count": 129,
      "metadata": {
        "colab": {
          "base_uri": "https://localhost:8080/"
        },
        "id": "2wFGCoYVS8Up",
        "outputId": "2f81c1a9-4c48-441d-f067-8860ed7fac5d"
      },
      "outputs": [
        {
          "data": {
            "text/html": [
              "<div>\n",
              "<style scoped>\n",
              "    .dataframe tbody tr th:only-of-type {\n",
              "        vertical-align: middle;\n",
              "    }\n",
              "\n",
              "    .dataframe tbody tr th {\n",
              "        vertical-align: top;\n",
              "    }\n",
              "\n",
              "    .dataframe thead th {\n",
              "        text-align: right;\n",
              "    }\n",
              "</style>\n",
              "<table border=\"1\" class=\"dataframe\">\n",
              "  <thead>\n",
              "    <tr style=\"text-align: right;\">\n",
              "      <th></th>\n",
              "      <th>date</th>\n",
              "      <th>time</th>\n",
              "      <th>latitude</th>\n",
              "      <th>longitude</th>\n",
              "      <th>depth</th>\n",
              "      <th>magnitude</th>\n",
              "      <th>year</th>\n",
              "    </tr>\n",
              "    <tr>\n",
              "      <th>date_time</th>\n",
              "      <th></th>\n",
              "      <th></th>\n",
              "      <th></th>\n",
              "      <th></th>\n",
              "      <th></th>\n",
              "      <th></th>\n",
              "      <th></th>\n",
              "    </tr>\n",
              "  </thead>\n",
              "  <tbody>\n",
              "    <tr>\n",
              "      <th>2008-11-01 00:31:25</th>\n",
              "      <td>2008-11-01</td>\n",
              "      <td>00:31:25</td>\n",
              "      <td>-0.60</td>\n",
              "      <td>98.89553</td>\n",
              "      <td>20.0</td>\n",
              "      <td>2.99</td>\n",
              "      <td>2008</td>\n",
              "    </tr>\n",
              "    <tr>\n",
              "      <th>2008-11-01 01:34:29</th>\n",
              "      <td>2008-11-01</td>\n",
              "      <td>01:34:29</td>\n",
              "      <td>-6.61</td>\n",
              "      <td>129.38722</td>\n",
              "      <td>30.1</td>\n",
              "      <td>5.51</td>\n",
              "      <td>2008</td>\n",
              "    </tr>\n",
              "    <tr>\n",
              "      <th>2008-11-01 01:38:14</th>\n",
              "      <td>2008-11-01</td>\n",
              "      <td>01:38:14</td>\n",
              "      <td>-3.65</td>\n",
              "      <td>127.99068</td>\n",
              "      <td>5.0</td>\n",
              "      <td>3.54</td>\n",
              "      <td>2008</td>\n",
              "    </tr>\n",
              "    <tr>\n",
              "      <th>2008-11-01 02:20:05</th>\n",
              "      <td>2008-11-01</td>\n",
              "      <td>02:20:05</td>\n",
              "      <td>-4.20</td>\n",
              "      <td>128.09700</td>\n",
              "      <td>5.0</td>\n",
              "      <td>2.42</td>\n",
              "      <td>2008</td>\n",
              "    </tr>\n",
              "    <tr>\n",
              "      <th>2008-11-01 02:32:18</th>\n",
              "      <td>2008-11-01</td>\n",
              "      <td>02:32:18</td>\n",
              "      <td>-4.09</td>\n",
              "      <td>128.20047</td>\n",
              "      <td>10.0</td>\n",
              "      <td>2.41</td>\n",
              "      <td>2008</td>\n",
              "    </tr>\n",
              "    <tr>\n",
              "      <th>...</th>\n",
              "      <td>...</td>\n",
              "      <td>...</td>\n",
              "      <td>...</td>\n",
              "      <td>...</td>\n",
              "      <td>...</td>\n",
              "      <td>...</td>\n",
              "      <td>...</td>\n",
              "    </tr>\n",
              "    <tr>\n",
              "      <th>2022-09-26 22:00:50</th>\n",
              "      <td>2022-09-26</td>\n",
              "      <td>22:00:50</td>\n",
              "      <td>-8.15</td>\n",
              "      <td>121.35150</td>\n",
              "      <td>10.0</td>\n",
              "      <td>3.41</td>\n",
              "      <td>2022</td>\n",
              "    </tr>\n",
              "    <tr>\n",
              "      <th>2022-09-26 22:08:59</th>\n",
              "      <td>2022-09-26</td>\n",
              "      <td>22:08:59</td>\n",
              "      <td>0.97</td>\n",
              "      <td>125.63014</td>\n",
              "      <td>12.1</td>\n",
              "      <td>3.29</td>\n",
              "      <td>2022</td>\n",
              "    </tr>\n",
              "    <tr>\n",
              "      <th>2022-09-26 22:11:43</th>\n",
              "      <td>2022-09-26</td>\n",
              "      <td>22:11:43</td>\n",
              "      <td>-8.27</td>\n",
              "      <td>116.71154</td>\n",
              "      <td>10.0</td>\n",
              "      <td>3.38</td>\n",
              "      <td>2022</td>\n",
              "    </tr>\n",
              "    <tr>\n",
              "      <th>2022-09-26 22:53:16</th>\n",
              "      <td>2022-09-26</td>\n",
              "      <td>22:53:16</td>\n",
              "      <td>-8.11</td>\n",
              "      <td>121.39471</td>\n",
              "      <td>10.0</td>\n",
              "      <td>3.49</td>\n",
              "      <td>2022</td>\n",
              "    </tr>\n",
              "    <tr>\n",
              "      <th>2022-09-26 23:17:38</th>\n",
              "      <td>2022-09-26</td>\n",
              "      <td>23:17:38</td>\n",
              "      <td>-10.81</td>\n",
              "      <td>113.36631</td>\n",
              "      <td>10.0</td>\n",
              "      <td>4.90</td>\n",
              "      <td>2022</td>\n",
              "    </tr>\n",
              "  </tbody>\n",
              "</table>\n",
              "<p>87372 rows × 7 columns</p>\n",
              "</div>"
            ],
            "text/plain": [
              "                           date      time  latitude  longitude  depth  \\\n",
              "date_time                                                               \n",
              "2008-11-01 00:31:25  2008-11-01  00:31:25     -0.60   98.89553   20.0   \n",
              "2008-11-01 01:34:29  2008-11-01  01:34:29     -6.61  129.38722   30.1   \n",
              "2008-11-01 01:38:14  2008-11-01  01:38:14     -3.65  127.99068    5.0   \n",
              "2008-11-01 02:20:05  2008-11-01  02:20:05     -4.20  128.09700    5.0   \n",
              "2008-11-01 02:32:18  2008-11-01  02:32:18     -4.09  128.20047   10.0   \n",
              "...                         ...       ...       ...        ...    ...   \n",
              "2022-09-26 22:00:50  2022-09-26  22:00:50     -8.15  121.35150   10.0   \n",
              "2022-09-26 22:08:59  2022-09-26  22:08:59      0.97  125.63014   12.1   \n",
              "2022-09-26 22:11:43  2022-09-26  22:11:43     -8.27  116.71154   10.0   \n",
              "2022-09-26 22:53:16  2022-09-26  22:53:16     -8.11  121.39471   10.0   \n",
              "2022-09-26 23:17:38  2022-09-26  23:17:38    -10.81  113.36631   10.0   \n",
              "\n",
              "                     magnitude  year  \n",
              "date_time                             \n",
              "2008-11-01 00:31:25       2.99  2008  \n",
              "2008-11-01 01:34:29       5.51  2008  \n",
              "2008-11-01 01:38:14       3.54  2008  \n",
              "2008-11-01 02:20:05       2.42  2008  \n",
              "2008-11-01 02:32:18       2.41  2008  \n",
              "...                        ...   ...  \n",
              "2022-09-26 22:00:50       3.41  2022  \n",
              "2022-09-26 22:08:59       3.29  2022  \n",
              "2022-09-26 22:11:43       3.38  2022  \n",
              "2022-09-26 22:53:16       3.49  2022  \n",
              "2022-09-26 23:17:38       4.90  2022  \n",
              "\n",
              "[87372 rows x 7 columns]"
            ]
          },
          "execution_count": 129,
          "metadata": {},
          "output_type": "execute_result"
        }
      ],
      "source": [
        "\n",
        "data = df.copy()\n",
        "data = data.drop(columns  = ['date_time'])\n",
        "data"
      ]
    },
    {
      "cell_type": "markdown",
      "metadata": {},
      "source": [
        "### Date-time features\n",
        "\n",
        "For the date time features, I decided to process it into time-stamps object and use it as a feature for the model. "
      ]
    },
    {
      "cell_type": "code",
      "execution_count": 130,
      "metadata": {},
      "outputs": [
        {
          "data": {
            "text/html": [
              "<div>\n",
              "<style scoped>\n",
              "    .dataframe tbody tr th:only-of-type {\n",
              "        vertical-align: middle;\n",
              "    }\n",
              "\n",
              "    .dataframe tbody tr th {\n",
              "        vertical-align: top;\n",
              "    }\n",
              "\n",
              "    .dataframe thead th {\n",
              "        text-align: right;\n",
              "    }\n",
              "</style>\n",
              "<table border=\"1\" class=\"dataframe\">\n",
              "  <thead>\n",
              "    <tr style=\"text-align: right;\">\n",
              "      <th></th>\n",
              "      <th>latitude</th>\n",
              "      <th>longitude</th>\n",
              "      <th>depth</th>\n",
              "      <th>magnitude</th>\n",
              "      <th>year</th>\n",
              "      <th>timestamp</th>\n",
              "    </tr>\n",
              "    <tr>\n",
              "      <th>date_time</th>\n",
              "      <th></th>\n",
              "      <th></th>\n",
              "      <th></th>\n",
              "      <th></th>\n",
              "      <th></th>\n",
              "      <th></th>\n",
              "    </tr>\n",
              "  </thead>\n",
              "  <tbody>\n",
              "    <tr>\n",
              "      <th>2008-11-01 00:31:25</th>\n",
              "      <td>-0.60</td>\n",
              "      <td>98.89553</td>\n",
              "      <td>20.0</td>\n",
              "      <td>2.99</td>\n",
              "      <td>2008</td>\n",
              "      <td>1.225471e+09</td>\n",
              "    </tr>\n",
              "    <tr>\n",
              "      <th>2008-11-01 01:34:29</th>\n",
              "      <td>-6.61</td>\n",
              "      <td>129.38722</td>\n",
              "      <td>30.1</td>\n",
              "      <td>5.51</td>\n",
              "      <td>2008</td>\n",
              "      <td>1.225474e+09</td>\n",
              "    </tr>\n",
              "    <tr>\n",
              "      <th>2008-11-01 01:38:14</th>\n",
              "      <td>-3.65</td>\n",
              "      <td>127.99068</td>\n",
              "      <td>5.0</td>\n",
              "      <td>3.54</td>\n",
              "      <td>2008</td>\n",
              "      <td>1.225475e+09</td>\n",
              "    </tr>\n",
              "    <tr>\n",
              "      <th>2008-11-01 02:20:05</th>\n",
              "      <td>-4.20</td>\n",
              "      <td>128.09700</td>\n",
              "      <td>5.0</td>\n",
              "      <td>2.42</td>\n",
              "      <td>2008</td>\n",
              "      <td>1.225477e+09</td>\n",
              "    </tr>\n",
              "    <tr>\n",
              "      <th>2008-11-01 02:32:18</th>\n",
              "      <td>-4.09</td>\n",
              "      <td>128.20047</td>\n",
              "      <td>10.0</td>\n",
              "      <td>2.41</td>\n",
              "      <td>2008</td>\n",
              "      <td>1.225478e+09</td>\n",
              "    </tr>\n",
              "  </tbody>\n",
              "</table>\n",
              "</div>"
            ],
            "text/plain": [
              "                     latitude  longitude  depth  magnitude  year     timestamp\n",
              "date_time                                                                     \n",
              "2008-11-01 00:31:25     -0.60   98.89553   20.0       2.99  2008  1.225471e+09\n",
              "2008-11-01 01:34:29     -6.61  129.38722   30.1       5.51  2008  1.225474e+09\n",
              "2008-11-01 01:38:14     -3.65  127.99068    5.0       3.54  2008  1.225475e+09\n",
              "2008-11-01 02:20:05     -4.20  128.09700    5.0       2.42  2008  1.225477e+09\n",
              "2008-11-01 02:32:18     -4.09  128.20047   10.0       2.41  2008  1.225478e+09"
            ]
          },
          "execution_count": 130,
          "metadata": {},
          "output_type": "execute_result"
        }
      ],
      "source": [
        "import datetime\n",
        "import time\n",
        "\n",
        "timestamp = []\n",
        "for d, t in zip(data['date'], data['time']):\n",
        "    try:\n",
        "        ts = datetime.datetime.strptime(d+' '+t, '%Y-%m-%d %H:%M:%S')\n",
        "        timestamp.append(time.mktime(ts.timetuple()))\n",
        "    except ValueError:\n",
        "       \n",
        "        timestamp.append('ValueError')\n",
        "timeStamp = pd.Series(timestamp)\n",
        "\n",
        "data['timestamp'] = timeStamp.values\n",
        "final_data = data.drop(columns = ['date', 'time', ])\n",
        "final_data = final_data[final_data.timestamp != 'ValueError']\n",
        "final_data.head()"
      ]
    },
    {
      "cell_type": "markdown",
      "metadata": {},
      "source": [
        "Choosing a splitting year. For now I am going to use the year 2022 as the validation set for seeing the model performance of the initial model and the final model."
      ]
    },
    {
      "cell_type": "code",
      "execution_count": 131,
      "metadata": {},
      "outputs": [],
      "source": [
        "splitting_year = 2021\n",
        "features = ['latitude', 'longitude', 'timestamp']\n",
        "target = ['magnitude']\n",
        "\n",
        "train_splitted = final_data[final_data.year <= splitting_year].copy()\n",
        "val_splitted = final_data[final_data.year > splitting_year].copy()\n"
      ]
    },
    {
      "cell_type": "code",
      "execution_count": 132,
      "metadata": {},
      "outputs": [],
      "source": [
        "# Train-test split by year\n",
        "\n",
        "X_train = train_splitted[features]\n",
        "y_train = train_splitted[target]\n",
        "\n",
        "\n",
        "X_val = val_splitted[features]\n",
        "y_val = val_splitted[target]\n"
      ]
    },
    {
      "cell_type": "code",
      "execution_count": 133,
      "metadata": {},
      "outputs": [
        {
          "name": "stdout",
          "output_type": "stream",
          "text": [
            "0.42037556335451004\n"
          ]
        }
      ],
      "source": [
        "#Using XGBoost for our model.\n",
        "import xgboost as xgb\n",
        "from sklearn import metrics\n",
        "xgb.set_config(verbosity =0)\n",
        "\n",
        "xg_reg = xgb.XGBRegressor(random_state =42)\n",
        "xg_reg.fit(X_train,y_train)\n",
        "y_pred_xg = xg_reg.predict(X_val)\n",
        "print(metrics.mean_squared_error(y_pred_xg,y_val))"
      ]
    },
    {
      "cell_type": "markdown",
      "metadata": {},
      "source": [
        "The metric `WMAPE` (or in this special case, since every target has uniform weight; `WAPE`) is often used for time series models. This is the metric that I will use for tuning the model."
      ]
    },
    {
      "cell_type": "code",
      "execution_count": 134,
      "metadata": {},
      "outputs": [
        {
          "name": "stdout",
          "output_type": "stream",
          "text": [
            "XGBoost WMAPE: 0.1463468828952275\n"
          ]
        }
      ],
      "source": [
        "def wmape(y_true, y_pred):\n",
        "    return np.sum(np.abs(y_true - y_pred)) / np.sum(np.abs(y_true))\n",
        "\n",
        " \n",
        "wmape_xg = wmape(y_val['magnitude'].values.reshape(-1,1), y_pred_xg    \\\n",
        "                .reshape(-1,1))\n",
        "\n",
        "#How did our initial model perform?\n",
        "print(f'XGBoost WMAPE: {wmape_xg}')\n"
      ]
    },
    {
      "cell_type": "markdown",
      "metadata": {},
      "source": [
        "### Optuna\n",
        "\n",
        "`Optuna` is a well-known library for Bayesian optimization. The idea behind it is that it tries to spend more time on hyperparameter values that maximizes the intended metric. `WMAPE` is going to be the metric that I am asking `Optuna` to minimize (Since a lower `WMAPE` mean a more accurate estimate).\n",
        "\n",
        "To use Optuna, there is an objective function that is needed to specify. This tells `Optuna` what to minimize. Afterwards, trials are done 25 times. The hold-out validation set are made using `TimeSeriesSplit` from `scikit-learn`. "
      ]
    },
    {
      "cell_type": "code",
      "execution_count": 135,
      "metadata": {},
      "outputs": [],
      "source": [
        "from sklearn import model_selection\n",
        "import optuna\n",
        "\n",
        "\n",
        "def objective(trial, df = train_splitted, x = X_train, y= y_train):\n",
        "    \n",
        "    tss = model_selection.TimeSeriesSplit(n_splits = 6, test_size  = 1000, gap =1)\n",
        "\n",
        "    param ={\n",
        "\n",
        "        \"random_state\" : 42,\n",
        "        \"silent\": 1,\n",
        "        \"n_estimators\": trial.suggest_int(\"n_estimators\", 100, 500),\n",
        "        \"lambda\": trial.suggest_loguniform(\"lambda\", 1e-8, 1.0),\n",
        "        \"alpha\": trial.suggest_loguniform(\"alpha\", 1e-8, 1.0),\n",
        "        'max_depth': trial.suggest_int('max_depth', 1,10),\n",
        "        'min_child_weight': trial.suggest_int('min_child_weight', 1, 300),\n",
        "        'subsample': trial.suggest_categorical('subsample', [0.4,0.5,0.6,0.7,0.8,1.0]),\n",
        "        'learning_rate': trial.suggest_categorical('learning_rate', [0.008,0.01,0.012,0.014,0.016,0.018, 0.02,0.1,0.14,0.3]),\n",
        "\n",
        "\n",
        "    }\n",
        "\n",
        "    wmapes= []\n",
        "    #instansiate LGBMRegressor, hiding the warnings\n",
        "    model = xgb.XGBRegressor(**param)\n",
        "\n",
        "    for train_idx, val_idx in tss.split(df):\n",
        "        x_train = x.iloc[train_idx]\n",
        "        y_train = y.iloc[train_idx]\n",
        "\n",
        "        x_test = x.iloc[val_idx]\n",
        "        y_test = y.iloc[val_idx]\n",
        "\n",
        "        model.fit(x_train, y_train, verbose=0)\n",
        "        preds = model.predict(x_test)\n",
        "        wmape_current = wmape(y_test['magnitude'].values.reshape(-1,1), preds.reshape(-1,1))\n",
        "        wmapes.append(wmape_current)\n",
        "    return np.mean(wmapes)\n",
        "\n"
      ]
    },
    {
      "cell_type": "code",
      "execution_count": 136,
      "metadata": {},
      "outputs": [
        {
          "name": "stderr",
          "output_type": "stream",
          "text": [
            "\u001b[32m[I 2022-10-18 18:45:36,790]\u001b[0m A new study created in memory with name: no-name-c19e82fe-c971-4ad1-a866-2737099bb7e1\u001b[0m\n",
            "\u001b[32m[I 2022-10-18 18:45:46,452]\u001b[0m Trial 0 finished with value: 0.1617218366346391 and parameters: {'n_estimators': 139, 'lambda': 0.02332457062002498, 'alpha': 0.0002102275798515841, 'max_depth': 3, 'min_child_weight': 16, 'subsample': 0.7, 'learning_rate': 0.3}. Best is trial 0 with value: 0.1617218366346391.\u001b[0m\n",
            "\u001b[32m[I 2022-10-18 18:46:30,698]\u001b[0m Trial 1 finished with value: 0.15254748013150018 and parameters: {'n_estimators': 329, 'lambda': 1.1775924816449201e-08, 'alpha': 0.00036827224949026775, 'max_depth': 8, 'min_child_weight': 95, 'subsample': 0.7, 'learning_rate': 0.016}. Best is trial 1 with value: 0.15254748013150018.\u001b[0m\n",
            "\u001b[32m[I 2022-10-18 18:47:02,538]\u001b[0m Trial 2 finished with value: 0.15506711572973375 and parameters: {'n_estimators': 325, 'lambda': 0.803036857293328, 'alpha': 0.00031681905536439084, 'max_depth': 5, 'min_child_weight': 54, 'subsample': 1.0, 'learning_rate': 0.14}. Best is trial 1 with value: 0.15254748013150018.\u001b[0m\n",
            "\u001b[32m[I 2022-10-18 18:47:05,882]\u001b[0m Trial 3 finished with value: 0.26531328406292237 and parameters: {'n_estimators': 115, 'lambda': 5.178279120166097e-08, 'alpha': 0.022547612154775413, 'max_depth': 1, 'min_child_weight': 115, 'subsample': 0.5, 'learning_rate': 0.01}. Best is trial 1 with value: 0.15254748013150018.\u001b[0m\n",
            "\u001b[32m[I 2022-10-18 18:47:19,420]\u001b[0m Trial 4 finished with value: 0.16840639544990646 and parameters: {'n_estimators': 300, 'lambda': 3.476364096620863e-08, 'alpha': 1.1278529279595012e-05, 'max_depth': 2, 'min_child_weight': 177, 'subsample': 0.7, 'learning_rate': 0.016}. Best is trial 1 with value: 0.15254748013150018.\u001b[0m\n",
            "\u001b[32m[I 2022-10-18 18:47:35,006]\u001b[0m Trial 5 finished with value: 0.15890855576119026 and parameters: {'n_estimators': 362, 'lambda': 4.118529003244823e-07, 'alpha': 1.3168305464756358e-08, 'max_depth': 2, 'min_child_weight': 114, 'subsample': 0.6, 'learning_rate': 0.14}. Best is trial 1 with value: 0.15254748013150018.\u001b[0m\n",
            "\u001b[32m[I 2022-10-18 18:48:00,846]\u001b[0m Trial 6 finished with value: 0.15275896795246033 and parameters: {'n_estimators': 420, 'lambda': 2.2668905916085213e-06, 'alpha': 4.212262860635186e-07, 'max_depth': 4, 'min_child_weight': 68, 'subsample': 0.4, 'learning_rate': 0.1}. Best is trial 1 with value: 0.15254748013150018.\u001b[0m\n",
            "\u001b[32m[I 2022-10-18 18:48:40,080]\u001b[0m Trial 7 finished with value: 0.15322820532895473 and parameters: {'n_estimators': 263, 'lambda': 1.3194408542277333e-06, 'alpha': 6.256783598944517e-06, 'max_depth': 7, 'min_child_weight': 214, 'subsample': 0.6, 'learning_rate': 0.14}. Best is trial 1 with value: 0.15254748013150018.\u001b[0m\n",
            "\u001b[32m[I 2022-10-18 18:49:16,966]\u001b[0m Trial 8 finished with value: 0.15303476262478855 and parameters: {'n_estimators': 315, 'lambda': 1.3505718677345856e-07, 'alpha': 1.7718964366222086e-08, 'max_depth': 6, 'min_child_weight': 110, 'subsample': 0.8, 'learning_rate': 0.016}. Best is trial 1 with value: 0.15254748013150018.\u001b[0m\n",
            "\u001b[32m[I 2022-10-18 18:50:01,694]\u001b[0m Trial 9 finished with value: 0.15229438744621915 and parameters: {'n_estimators': 427, 'lambda': 1.2255996722407157e-07, 'alpha': 8.021155564029067e-07, 'max_depth': 8, 'min_child_weight': 104, 'subsample': 0.4, 'learning_rate': 0.016}. Best is trial 9 with value: 0.15229438744621915.\u001b[0m\n",
            "\u001b[32m[I 2022-10-18 18:51:02,808]\u001b[0m Trial 10 finished with value: 0.14994302268274692 and parameters: {'n_estimators': 497, 'lambda': 0.0001085178669754506, 'alpha': 0.08588207548111398, 'max_depth': 10, 'min_child_weight': 274, 'subsample': 0.4, 'learning_rate': 0.012}. Best is trial 10 with value: 0.14994302268274692.\u001b[0m\n",
            "\u001b[32m[I 2022-10-18 18:52:20,649]\u001b[0m Trial 11 finished with value: 0.14983033275186058 and parameters: {'n_estimators': 486, 'lambda': 0.0001386148463601334, 'alpha': 0.08670107009796346, 'max_depth': 10, 'min_child_weight': 272, 'subsample': 0.4, 'learning_rate': 0.012}. Best is trial 11 with value: 0.14983033275186058.\u001b[0m\n",
            "\u001b[32m[I 2022-10-18 18:53:36,147]\u001b[0m Trial 12 finished with value: 0.15007376520893015 and parameters: {'n_estimators': 499, 'lambda': 0.00018027823301770268, 'alpha': 0.918515957293037, 'max_depth': 10, 'min_child_weight': 296, 'subsample': 0.4, 'learning_rate': 0.012}. Best is trial 11 with value: 0.14983033275186058.\u001b[0m\n",
            "\u001b[32m[I 2022-10-18 18:54:39,083]\u001b[0m Trial 13 finished with value: 0.15005279360880444 and parameters: {'n_estimators': 498, 'lambda': 0.00014774407261703546, 'alpha': 0.027570585084057887, 'max_depth': 10, 'min_child_weight': 297, 'subsample': 0.4, 'learning_rate': 0.012}. Best is trial 11 with value: 0.14983033275186058.\u001b[0m\n",
            "\u001b[32m[I 2022-10-18 18:55:29,213]\u001b[0m Trial 14 finished with value: 0.15025870761873453 and parameters: {'n_estimators': 426, 'lambda': 0.0027355418347612816, 'alpha': 0.7433539174505878, 'max_depth': 9, 'min_child_weight': 242, 'subsample': 0.4, 'learning_rate': 0.012}. Best is trial 11 with value: 0.14983033275186058.\u001b[0m\n"
          ]
        },
        {
          "name": "stdout",
          "output_type": "stream",
          "text": [
            "Number of finished trials: 15\n",
            "Best trial: {'n_estimators': 486, 'lambda': 0.0001386148463601334, 'alpha': 0.08670107009796346, 'max_depth': 10, 'min_child_weight': 272, 'subsample': 0.4, 'learning_rate': 0.012}\n"
          ]
        }
      ],
      "source": [
        "study = optuna.create_study(direction='minimize')\n",
        "study.optimize(objective, n_trials=15)\n",
        "print('Number of finished trials:', len(study.trials))\n",
        "print('Best trial:', study.best_trial.params)"
      ]
    },
    {
      "cell_type": "code",
      "execution_count": 137,
      "metadata": {},
      "outputs": [
        {
          "name": "stdout",
          "output_type": "stream",
          "text": [
            "0.3816021725535638\n"
          ]
        }
      ],
      "source": [
        "#Copying the best params into a dictionary and fitting the model with it.\n",
        "params = {'n_estimators': 486, 'lambda': 0.0001386148463601334, \n",
        "            'alpha': 0.08670107009796346, 'max_depth': 10, 'min_child_weight': 272, \n",
        "            'subsample': 0.4, 'learning_rate': 0.012}\n",
        "\n",
        "final_model  = xgb.XGBRegressor(**params, silent = 1, random_state = 42)\n",
        "\n",
        "final_model.fit(X_train,y_train)\n",
        "y_pred_fm = final_model.predict(X_val)\n",
        "\n",
        "#How's the RMSE?\n",
        "print(metrics.mean_squared_error(y_pred_fm,y_val))"
      ]
    },
    {
      "cell_type": "code",
      "execution_count": 138,
      "metadata": {},
      "outputs": [
        {
          "name": "stdout",
          "output_type": "stream",
          "text": [
            "XGboost WMAPE: 0.13829633893301713\n"
          ]
        }
      ],
      "source": [
        "\n",
        "#Hows the WMAPE?\n",
        "wmape_xg = wmape(y_val['magnitude'].values.reshape(-1,1), y_pred_fm.reshape(-1,1))\n",
        "print(f'XGboost WMAPE: {wmape_xg}')"
      ]
    },
    {
      "cell_type": "markdown",
      "metadata": {},
      "source": [
        "It is shown that `Optuna` did manage to reduce the `WMAPE`. I do have to admit that the WMAPE is not very ideal, I would have wanted to see something less than 10%. But judging how the average magnitude of the earthquakes don't follow a predictable trend, I am quite satisfied with the performance of the model. What is left to do is to load the model into a pickle file."
      ]
    },
    {
      "cell_type": "code",
      "execution_count": 139,
      "metadata": {},
      "outputs": [],
      "source": [
        "import pickle \n",
        "\n",
        "pickle.dump(final_model, open('final_model.pkl', 'wb'))"
      ]
    }
  ],
  "metadata": {
    "colab": {
      "collapsed_sections": [],
      "provenance": []
    },
    "kernelspec": {
      "display_name": "Python 3.8.13 ('datsci')",
      "language": "python",
      "name": "python3"
    },
    "language_info": {
      "codemirror_mode": {
        "name": "ipython",
        "version": 3
      },
      "file_extension": ".py",
      "mimetype": "text/x-python",
      "name": "python",
      "nbconvert_exporter": "python",
      "pygments_lexer": "ipython3",
      "version": "3.8.13"
    },
    "vscode": {
      "interpreter": {
        "hash": "4562727f14b74f61555a57c9b095d933e35297c32a32cec7b21936c886b6a59b"
      }
    }
  },
  "nbformat": 4,
  "nbformat_minor": 0
}
